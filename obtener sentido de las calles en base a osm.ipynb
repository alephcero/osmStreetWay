{
 "cells": [
  {
   "cell_type": "code",
   "execution_count": 9,
   "metadata": {
    "collapsed": true
   },
   "outputs": [],
   "source": [
    "import geopandas as gpd\n",
    "import math\n",
    "import numpy as np"
   ]
  },
  {
   "cell_type": "code",
   "execution_count": 3,
   "metadata": {},
   "outputs": [],
   "source": [
    "dt = gpd.read_file('cr.shp')"
   ]
  },
  {
   "cell_type": "code",
   "execution_count": 7,
   "metadata": {
    "collapsed": true
   },
   "outputs": [],
   "source": [
    "def gradosCalle(osmID,dt):\n",
    "    x1 =  dt[dt.osm_id==osmID].geometry.iloc[0].coords[0][0]\n",
    "    y1 =  dt[dt.osm_id==osmID].geometry.iloc[0].coords[0][1]\n",
    "    x2 =  dt[dt.osm_id==osmID].geometry.iloc[0].coords[1][0]\n",
    "    y2 =  dt[dt.osm_id==osmID].geometry.iloc[0].coords[1][1]\n",
    "    return math.degrees(math.atan2((y2-y1),(x2-x1)))"
   ]
  },
  {
   "cell_type": "code",
   "execution_count": 8,
   "metadata": {},
   "outputs": [],
   "source": [
    "dt['sentidoGrados'] = [gradosCalle(osmID = i, dt=dt) for i in dt.osm_id]"
   ]
  },
  {
   "cell_type": "code",
   "execution_count": 15,
   "metadata": {
    "collapsed": true
   },
   "outputs": [],
   "source": [
    "dt['sentido'] = np.nan"
   ]
  },
  {
   "cell_type": "code",
   "execution_count": 16,
   "metadata": {
    "collapsed": true
   },
   "outputs": [],
   "source": [
    "dt.loc[(dt.sentidoGrados < 20) & (dt.sentidoGrados > -20),'sentido'] = 'Este'\n",
    "dt.loc[(dt.sentidoGrados > 70) & (dt.sentidoGrados < 110),'sentido'] = 'Norte'\n",
    "dt.loc[(dt.sentidoGrados > 160) | (dt.sentidoGrados < -160),'sentido'] = 'Oeste'\n",
    "dt.loc[(dt.sentidoGrados < -70) & (dt.sentidoGrados > -110),'sentido'] = 'Sur'"
   ]
  },
  {
   "cell_type": "code",
   "execution_count": 17,
   "metadata": {},
   "outputs": [
    {
     "data": {
      "text/html": [
       "<div>\n",
       "<style>\n",
       "    .dataframe thead tr:only-child th {\n",
       "        text-align: right;\n",
       "    }\n",
       "\n",
       "    .dataframe thead th {\n",
       "        text-align: left;\n",
       "    }\n",
       "\n",
       "    .dataframe tbody tr th {\n",
       "        vertical-align: top;\n",
       "    }\n",
       "</style>\n",
       "<table border=\"1\" class=\"dataframe\">\n",
       "  <thead>\n",
       "    <tr style=\"text-align: right;\">\n",
       "      <th></th>\n",
       "      <th>osm_id</th>\n",
       "      <th>name</th>\n",
       "      <th>highway</th>\n",
       "      <th>waterway</th>\n",
       "      <th>aerialway</th>\n",
       "      <th>barrier</th>\n",
       "      <th>man_made</th>\n",
       "      <th>other_tags</th>\n",
       "      <th>geometry</th>\n",
       "      <th>sentido</th>\n",
       "      <th>sentidoGrados</th>\n",
       "    </tr>\n",
       "  </thead>\n",
       "  <tbody>\n",
       "    <tr>\n",
       "      <th>0</th>\n",
       "      <td>12570043</td>\n",
       "      <td>Avenida 27</td>\n",
       "      <td>secondary_link</td>\n",
       "      <td></td>\n",
       "      <td></td>\n",
       "      <td></td>\n",
       "      <td></td>\n",
       "      <td>\"lanes\"=&gt;\"1\",\"oneway\"=&gt;\"no\",\"ref\"=&gt;\"100\",\"surf...</td>\n",
       "      <td>LINESTRING (-84.0910921 9.9479126, -84.0914578...</td>\n",
       "      <td>Oeste</td>\n",
       "      <td>-163.926426</td>\n",
       "    </tr>\n",
       "    <tr>\n",
       "      <th>1</th>\n",
       "      <td>12657791</td>\n",
       "      <td>Avenida 1</td>\n",
       "      <td>residential</td>\n",
       "      <td></td>\n",
       "      <td></td>\n",
       "      <td></td>\n",
       "      <td></td>\n",
       "      <td></td>\n",
       "      <td>LINESTRING (-84.1094013 9.9372211, -84.1104624...</td>\n",
       "      <td>Oeste</td>\n",
       "      <td>166.497323</td>\n",
       "    </tr>\n",
       "    <tr>\n",
       "      <th>2</th>\n",
       "      <td>12657973</td>\n",
       "      <td>Vía 104</td>\n",
       "      <td>secondary</td>\n",
       "      <td></td>\n",
       "      <td></td>\n",
       "      <td></td>\n",
       "      <td></td>\n",
       "      <td>\"lanes\"=&gt;\"4\",\"ref\"=&gt;\"104\",\"surface\"=&gt;\"asphalt\"</td>\n",
       "      <td>LINESTRING (-84.109787 9.935654100000001, -84....</td>\n",
       "      <td>NaN</td>\n",
       "      <td>159.197064</td>\n",
       "    </tr>\n",
       "    <tr>\n",
       "      <th>3</th>\n",
       "      <td>12658410</td>\n",
       "      <td>Avenida 3</td>\n",
       "      <td>tertiary</td>\n",
       "      <td></td>\n",
       "      <td></td>\n",
       "      <td></td>\n",
       "      <td></td>\n",
       "      <td>\"alt_name\"=&gt;\"Avenida Joaquín García Monge\",\"la...</td>\n",
       "      <td>LINESTRING (-84.08821330000001 9.9364446999999...</td>\n",
       "      <td>Oeste</td>\n",
       "      <td>170.626917</td>\n",
       "    </tr>\n",
       "    <tr>\n",
       "      <th>4</th>\n",
       "      <td>12658461</td>\n",
       "      <td>Avenida 1</td>\n",
       "      <td>residential</td>\n",
       "      <td></td>\n",
       "      <td></td>\n",
       "      <td></td>\n",
       "      <td></td>\n",
       "      <td>\"alt_name\"=&gt;\"Avenida Eladio Prado Sáenz\",\"lane...</td>\n",
       "      <td>LINESTRING (-84.0882707 9.935813, -84.08870570...</td>\n",
       "      <td>Oeste</td>\n",
       "      <td>172.716171</td>\n",
       "    </tr>\n",
       "  </tbody>\n",
       "</table>\n",
       "</div>"
      ],
      "text/plain": [
       "     osm_id        name         highway waterway aerialway barrier man_made  \\\n",
       "0  12570043  Avenida 27  secondary_link                                       \n",
       "1  12657791   Avenida 1     residential                                       \n",
       "2  12657973     Vía 104       secondary                                       \n",
       "3  12658410   Avenida 3        tertiary                                       \n",
       "4  12658461   Avenida 1     residential                                       \n",
       "\n",
       "                                          other_tags  \\\n",
       "0  \"lanes\"=>\"1\",\"oneway\"=>\"no\",\"ref\"=>\"100\",\"surf...   \n",
       "1                                                      \n",
       "2     \"lanes\"=>\"4\",\"ref\"=>\"104\",\"surface\"=>\"asphalt\"   \n",
       "3  \"alt_name\"=>\"Avenida Joaquín García Monge\",\"la...   \n",
       "4  \"alt_name\"=>\"Avenida Eladio Prado Sáenz\",\"lane...   \n",
       "\n",
       "                                            geometry sentido  sentidoGrados  \n",
       "0  LINESTRING (-84.0910921 9.9479126, -84.0914578...   Oeste    -163.926426  \n",
       "1  LINESTRING (-84.1094013 9.9372211, -84.1104624...   Oeste     166.497323  \n",
       "2  LINESTRING (-84.109787 9.935654100000001, -84....     NaN     159.197064  \n",
       "3  LINESTRING (-84.08821330000001 9.9364446999999...   Oeste     170.626917  \n",
       "4  LINESTRING (-84.0882707 9.935813, -84.08870570...   Oeste     172.716171  "
      ]
     },
     "execution_count": 17,
     "metadata": {},
     "output_type": "execute_result"
    }
   ],
   "source": [
    "dt.head()"
   ]
  },
  {
   "cell_type": "code",
   "execution_count": 18,
   "metadata": {},
   "outputs": [],
   "source": [
    "dt.to_file('callesConSentido')"
   ]
  },
  {
   "cell_type": "code",
   "execution_count": null,
   "metadata": {
    "collapsed": true
   },
   "outputs": [],
   "source": []
  }
 ],
 "metadata": {
  "anaconda-cloud": {},
  "kernelspec": {
   "display_name": "Python 2",
   "language": "python",
   "name": "python2"
  },
  "language_info": {
   "codemirror_mode": {
    "name": "ipython",
    "version": 2
   },
   "file_extension": ".py",
   "mimetype": "text/x-python",
   "name": "python",
   "nbconvert_exporter": "python",
   "pygments_lexer": "ipython2",
   "version": "2.7.14"
  }
 },
 "nbformat": 4,
 "nbformat_minor": 1
}
